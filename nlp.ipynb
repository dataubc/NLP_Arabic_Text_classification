{
 "cells": [
  {
   "cell_type": "code",
   "execution_count": 1,
   "metadata": {},
   "outputs": [],
   "source": [
    "import pandas as pd"
   ]
  },
  {
   "cell_type": "code",
   "execution_count": 7,
   "metadata": {},
   "outputs": [],
   "source": [
    "df = pd.read_csv('arabic_dataset_classifiction.csv')"
   ]
  },
  {
   "cell_type": "code",
   "execution_count": 8,
   "metadata": {},
   "outputs": [
    {
     "data": {
      "text/html": [
       "<div>\n",
       "<style scoped>\n",
       "    .dataframe tbody tr th:only-of-type {\n",
       "        vertical-align: middle;\n",
       "    }\n",
       "\n",
       "    .dataframe tbody tr th {\n",
       "        vertical-align: top;\n",
       "    }\n",
       "\n",
       "    .dataframe thead th {\n",
       "        text-align: right;\n",
       "    }\n",
       "</style>\n",
       "<table border=\"1\" class=\"dataframe\">\n",
       "  <thead>\n",
       "    <tr style=\"text-align: right;\">\n",
       "      <th></th>\n",
       "      <th>text</th>\n",
       "      <th>targe</th>\n",
       "    </tr>\n",
       "  </thead>\n",
       "  <tbody>\n",
       "    <tr>\n",
       "      <th>0</th>\n",
       "      <td>بين أستوديوهات ورزازات وصحراء مرزوكة وآثار ولي...</td>\n",
       "      <td>0</td>\n",
       "    </tr>\n",
       "    <tr>\n",
       "      <th>1</th>\n",
       "      <td>قررت النجمة الأمريكية أوبرا وينفري ألا يقتصر ع...</td>\n",
       "      <td>0</td>\n",
       "    </tr>\n",
       "    <tr>\n",
       "      <th>2</th>\n",
       "      <td>أخبارنا المغربية الوزاني تصوير الشملالي ألهب ا...</td>\n",
       "      <td>0</td>\n",
       "    </tr>\n",
       "    <tr>\n",
       "      <th>3</th>\n",
       "      <td>اخبارنا المغربية قال ابراهيم الراشدي محامي سعد...</td>\n",
       "      <td>0</td>\n",
       "    </tr>\n",
       "    <tr>\n",
       "      <th>4</th>\n",
       "      <td>تزال صناعة الجلود في المغرب تتبع الطريقة التقل...</td>\n",
       "      <td>0</td>\n",
       "    </tr>\n",
       "  </tbody>\n",
       "</table>\n",
       "</div>"
      ],
      "text/plain": [
       "                                                text  targe\n",
       "0  بين أستوديوهات ورزازات وصحراء مرزوكة وآثار ولي...      0\n",
       "1  قررت النجمة الأمريكية أوبرا وينفري ألا يقتصر ع...      0\n",
       "2  أخبارنا المغربية الوزاني تصوير الشملالي ألهب ا...      0\n",
       "3  اخبارنا المغربية قال ابراهيم الراشدي محامي سعد...      0\n",
       "4  تزال صناعة الجلود في المغرب تتبع الطريقة التقل...      0"
      ]
     },
     "execution_count": 8,
     "metadata": {},
     "output_type": "execute_result"
    }
   ],
   "source": [
    "df.head()"
   ]
  },
  {
   "cell_type": "code",
   "execution_count": 51,
   "metadata": {},
   "outputs": [
    {
     "name": "stdout",
     "output_type": "stream",
     "text": [
      "<class 'pandas.core.frame.DataFrame'>\n",
      "Int64Index: 108789 entries, 0 to 111727\n",
      "Data columns (total 2 columns):\n",
      " #   Column  Non-Null Count   Dtype \n",
      "---  ------  --------------   ----- \n",
      " 0   text    108789 non-null  object\n",
      " 1   targe   108789 non-null  int64 \n",
      "dtypes: int64(1), object(1)\n",
      "memory usage: 2.5+ MB\n"
     ]
    }
   ],
   "source": [
    "df.info()"
   ]
  },
  {
   "cell_type": "code",
   "execution_count": 52,
   "metadata": {},
   "outputs": [],
   "source": [
    "df = df.dropna()"
   ]
  },
  {
   "cell_type": "code",
   "execution_count": 53,
   "metadata": {},
   "outputs": [
    {
     "data": {
      "text/plain": [
       "'بين أستوديوهات ورزازات وصحراء مرزوكة وآثار وليلي ثم الرباط والبيضاء انتهى المخرج المغربي سهيل بن بركة من تصوير مشاهد عمله السينمائي الجديد الذي خصصه لتسليط الضوء عن حياة الجاسوس الإسباني دومينغو باديا الذي عاش فترة من القرن التاسع عشر بالمغرب باسم علي باي هذا الفيلم الذي اختار له مخرجه عنوان حلم خليفة يصور حياة علي باي العباسي الذي ما زال أحد أحياء طنجة يحمل اسمه عاش حياة فريدة متنكرا بشخصية تاجر عربي من سلالة الرسول صلى الله عليه وسلم فيما كان يعمل جاسوسا لحساب إسبانيا وكشف مخرج الفيلم سهيل بن بركة في تصريح لهسبريس أن الفيلم السينمائي دخل مرحلة التوضيب التي تتم خارج المغرب مبرزا أن الفيلم الذي يروي حياة الجاسوس الإسباني دومينغو باديا منذ أن قرر من طنجة بدء رحلاته نحو عدد من المناطق في العالم الإسلامي بداية القرن العشرين سيكون جاهزا بعد شهرين ويجمع الفيلم السينمائي عددا من الممثلين من مختلف الجنسيات واختار لدور البطولة الممثلة السينمائية الإيطالية كارولينا كريشنتيني للقيام بدور الإنجليزية الليدي هستر ستانهوب التي اشتهرت في الكتب الغربية بـ زنوبيا والتي عاشت بدورها بالدول العربية وارتبطت بعلي باي بعلاقة عاطفية إضافة إلى وجوه سينمائية معروفة وعن اختيار المخرج المغربي لحياة علي باي العباسي يوضح في تصريح لوكالة الأنباء الفرنسية هذه الشخصية عاشت أحداثا مشوقة كثيرة تستحق أن تسلط عليها الأضواء مشيرا إلى أن الفيلم سيحمل الكثير من المفاجآت لا سيما أن البطل قتل على يد امرأة دست له السم خلال رحلة الحج وأضاف شخصية طموحة وشجاعة ومثقفة ومذهلة في آن واحد كان يرى نفسه مستكشفا في أول الأمر نال علي باي إعجاب السلطان بعلمه فجعله من المقربين منه في ظرف وجيز ودعاه إلى اللحاق به إلى فاس وبرحيله إلى فاس تنتهي قصته مع طنجة وعاش علي باي العباسي بمدينة طنجة على أنه رجل مسلم أصله من الشام ونال ثقة الجميع في هذه المدينة حيث تم تشييد تمثال له في عروسة الشمال نظرا لتمكنه من بعض العلوم خاصة علم الفلك الذي مكنه من رصد كسوف الشمس الذي تزامن مع وجوده في طنجة فكان لعلمه دور كبير ساعده في إخفاء هويته كما أبان هذا الأمر أيضا عن تراجع كبير في ميدان العلم والمعرفة لدى المغاربة والمسلمين بصفة عامة'"
      ]
     },
     "execution_count": 53,
     "metadata": {},
     "output_type": "execute_result"
    }
   ],
   "source": [
    "df['text'][0]"
   ]
  },
  {
   "cell_type": "code",
   "execution_count": 54,
   "metadata": {},
   "outputs": [
    {
     "name": "stdout",
     "output_type": "stream",
     "text": [
      "There are, 5 classess, which are : [0 1 2 3 4]\n"
     ]
    },
    {
     "data": {
      "image/png": "[encoded data removed]",
      "text/plain": [
       "<Figure size 432x288 with 1 Axes>"
      ]
     },
     "metadata": {
      "needs_background": "light"
     },
     "output_type": "display_data"
    }
   ],
   "source": [
    "print('There are,',df['targe'].nunique(),'classess, which are :',df['targe'].unique())\n",
    "df['targe'].hist();"
   ]
  },
  {
   "cell_type": "markdown",
   "metadata": {},
   "source": [
    "> we have class imblance mainly caused by class 4"
   ]
  },
  {
   "cell_type": "markdown",
   "metadata": {},
   "source": [
    "- Let's look at once instance from each class"
   ]
  },
  {
   "cell_type": "code",
   "execution_count": 55,
   "metadata": {},
   "outputs": [
    {
     "data": {
      "text/plain": [
       "'بين أستوديوهات ورزازات وصحراء مرزوكة وآثار وليلي ثم الرباط والبيضاء انتهى المخرج المغربي سهيل بن بركة من تصوير مشاهد عمله السينمائي الجديد الذي خصصه لتسليط الضوء عن حياة الجاسوس الإسباني دومينغو باديا الذي عاش فترة من القرن التاسع عشر بالمغرب باسم علي باي هذا الفيلم الذي اختار له مخرجه عنوان حلم خليفة يصور حياة علي باي العباسي الذي ما زال أحد أحياء طنجة يحمل اسمه عاش حياة فريدة متنكرا بشخصية تاجر عربي من سلالة الرسول صلى الله عليه وسلم فيما كان يعمل جاسوسا لحساب إسبانيا وكشف مخرج الفيلم سهيل بن بركة في تصريح لهسبريس أن الفيلم السينمائي دخل مرحلة التوضيب التي تتم خارج المغرب مبرزا أن الفيلم الذي يروي حياة الجاسوس الإسباني دومينغو باديا منذ أن قرر من طنجة بدء رحلاته نحو عدد من المناطق في العالم الإسلامي بداية القرن العشرين سيكون جاهزا بعد شهرين ويجمع الفيلم السينمائي عددا من الممثلين من مختلف الجنسيات واختار لدور البطولة الممثلة السينمائية الإيطالية كارولينا كريشنتيني للقيام بدور الإنجليزية الليدي هستر ستانهوب التي اشتهرت في الكتب الغربية بـ زنوبيا والتي عاشت بدورها بالدول العربية وارتبطت بعلي باي بعلاقة عاطفية إضافة إلى وجوه سينمائية معروفة وعن اختيار المخرج المغربي لحياة علي باي العباسي يوضح في تصريح لوكالة الأنباء الفرنسية هذه الشخصية عاشت أحداثا مشوقة كثيرة تستحق أن تسلط عليها الأضواء مشيرا إلى أن الفيلم سيحمل الكثير من المفاجآت لا سيما أن البطل قتل على يد امرأة دست له السم خلال رحلة الحج وأضاف شخصية طموحة وشجاعة ومثقفة ومذهلة في آن واحد كان يرى نفسه مستكشفا في أول الأمر نال علي باي إعجاب السلطان بعلمه فجعله من المقربين منه في ظرف وجيز ودعاه إلى اللحاق به إلى فاس وبرحيله إلى فاس تنتهي قصته مع طنجة وعاش علي باي العباسي بمدينة طنجة على أنه رجل مسلم أصله من الشام ونال ثقة الجميع في هذه المدينة حيث تم تشييد تمثال له في عروسة الشمال نظرا لتمكنه من بعض العلوم خاصة علم الفلك الذي مكنه من رصد كسوف الشمس الذي تزامن مع وجوده في طنجة فكان لعلمه دور كبير ساعده في إخفاء هويته كما أبان هذا الأمر أيضا عن تراجع كبير في ميدان العلم والمعرفة لدى المغاربة والمسلمين بصفة عامة'"
      ]
     },
     "execution_count": 55,
     "metadata": {},
     "output_type": "execute_result"
    }
   ],
   "source": [
    "df[df['targe']==0].iloc[0,0]"
   ]
  },
  {
   "cell_type": "markdown",
   "metadata": {},
   "source": [
    "> culture"
   ]
  },
  {
   "cell_type": "code",
   "execution_count": 56,
   "metadata": {},
   "outputs": [
    {
     "data": {
      "text/plain": [
       "'أحالت عناصر المصلحة الولائية للشرطة القضائية بمراكش أول أمس السبت على أنظار وكيل الملك بالمحكمة الابتدائية حارسا للأمن الخاص من أجل انتحال مهنة ينظمها القانون وجاء اعتقال المتهم بمحيط مسجد الكتبية بمقاطعة مراكش المدينة من قبل عنصر من فرقة الدراجين متلبسا بانتحال صفة رجل أمن مساء الأربعاء الماضي حين كان يقوم بالتثبت من هوية شخصين بالحديقة المجاورة لمسجد الكتبية حيث جردهما من بطاقتيهما الوطنيتين من أجل تنقيطها قبل أن يقترب منه رجل أمن لتقديم المساعدة إذ طالب عنصر فرقة الدراجين من الشرطي المزيف مده بمعلومات مهنية دقيقة قادته إلى اكتشاف احتياله ليتم اعتقاله وتصفيده قبل أن يطلب الدعم من مصالح الدائرة الأمنية الرابعة بساحة جامع الفنا التي انتقلت عناصرها إلى المكان واقتيد المتهم إلى مقر الدائرة الأمنية المذكورة لتحرير محضر الإيقاف قبل أن تشهد هذه الأخيرة تدفق العديد من ضحايا الشرطي المزيف ليعترفوا أنه ظل يرهبهم بتسلطه وتخويفهم وتنقيط صوري لبطائقهم التعريفية لتتم إحالته على أنظار المصلحة الولائية للشرطة القضائية لتعميق البحث ووضعه رهن تدابير الحراسة النظرية طبقا لتعليمات النيابة العامة لاستكمال البحث التحقيق مواجهته بالضحايا الذين أكدوا انتحاله لصفة رجل أمن وترهيبهم ليقرروا متابعته أمام القضاء في انتظار عرضه على أنظار العدالة لمحاكمته وفق المنسوب إليه محمد السريدي مراكش'"
      ]
     },
     "execution_count": 56,
     "metadata": {},
     "output_type": "execute_result"
    }
   ],
   "source": [
    "df[df['targe']==1].iloc[99,0]"
   ]
  },
  {
   "cell_type": "markdown",
   "metadata": {},
   "source": [
    "> diverse, mostly accidents"
   ]
  },
  {
   "cell_type": "code",
   "execution_count": 57,
   "metadata": {},
   "outputs": [
    {
     "data": {
      "text/plain": [
       "'وقعت شركة أليانس هوسبيتاليتي ”، فرع الاستثمار الفندقي والسياحي التابع لمجموعة أليانس للتطوير العقاري اتفاقية شراكة مع البنك الأوربي لإعادة الإعمار والتنمية يهم تمويلا على شكل مساهمة في رأس المال من أجل تمويل مشاريع بناء وحدات فندقية من صنف ثلاثة وأربعة نجوم إذ تبلغ الكلفة الاستثمارية لبناء فنادق في مدن الدار البيضاء والرباط ومراكش وطنجة وكذا وجدة مليون أورو سيؤمن البنك الأوربي عشرة ملايين أورو من هذا الغلاف الاستثماري فيما ستخصص الشركة العقارية مليون أورو لتبلغ التكلفة الاستثمارية المبدئية مليون أورو وأكد محمد علمي لزرق رئيس الإدارة الجماعية لشركة أليانس للتطوير العقاري إحداث شركة تحت اسم أليانس هوتيل أنفستستمنت من أجل تدبير مشروع السياحي المشترك إذ تبلغ حصة الفاعل العقاري في رأسمال الشركة الجديدة في المائة مقابل حصة في المائة لفائدة البنك الأوربي لإعادة الإعمار والتنمية فيما سيتم تطوير أولى الوحدات الفندقية في الدار البيضاء ومراكش مشيرا في تصريحات لـ الصباح »، إلى أن الشركة تنتظر حاليا التراخيص الإدارية الضرورية لبدء أشغال البناء خصوصا مشروع فندق الدار البيضاء الذي سيتألف من طابقا وأضاف لزرق على هامش ندوة صحافية نظمت بالمناسبة في الدار البيضاء أن الوحدات الفندقية الجديدة ستستجيب للمعايير الدولية ويعهد بتدبيرها إلى شركات عالمية مؤكدا أن الاستثمار الجديد جاء ليغطي حاجة السوق السياحية المغربية في منتوجات الفنادق من فئة ثلاثة وأربعة نجوم إذ ستستفيد الشركة من خبرة تمتد إلى سنة في المجال الفندقي مشيرا إلى أن الوحدتين الفندقيتين الأولى والثانية سيتم تسليمهما في أفق وعلق رئيس الإدارة الجماعية لشركة أليانس على سبب الشراكة الجديدة مع البنك الأوربي لإعادة الإعمار والتنمية أن الشركة أصبحت علامة موثوقة في السوق الإئتمانية الدولية بعد اتفاق الشراكة الموقع نهاية السنة الماضية مع الشركة المالية الدولية فرع البنك الدولي التي اقتنت في المائة من رأس مال الفاعل العقاري المغربي وذلك من خلال توقيع الطرفين على اتفاقية تستثمر بموجبها الأولى مليون دولار أي ما يعادل مليون درهم في الشركة العقارية واتخذ هذا الاستثمار على شكل الزيادة في رأس المال المخصص للشركة المالية الدولية بغلاف مالي يصل مليون دولار أي ما يقارب في المائة من رأسمال أليانس »، وفتح خط تمويلي عبارة عن أسهم بقيمة مليون دولار إذ ستستفيد الشركة العقارية من الدعم التقني ومن الخبرة الدولة لفرع البنك الدولي من أجل تطوير حكامة المجموعة وفي السياق ذاته يأتي اتفاق الشراكة الجديد مع البنك الأوربي لإعادة الإعمار والتنمية ليضمن التوازن المالي للشركة التي تعتزم ضمن توجهاتها الاستثمارية الاستراتيجية تسليم ألف وحدة خلال خمس سنوات المقبلة بتكلفة إجمالية تقدر بحوالي مليار درهم ضمن إستراتيجية تركز على تقوية قطب السكن للمجموعة بدرجة أولى وقطب البناء بدرجة ثانية وفي هذا الشأن كشف الفاعل العقاري توجها لزيادة الاستثمار في فئة السكن المتوسط مشيرا في هذا الشأن إلى مشروع المجموعة في منطقة المهدية بالقنيطرة الذي خصص جزء كبير منه لتسويق هذه الفئة من المنتوجات العقارية مؤكدا أن زبناء هذا السكن ينتمون إلى الرباط وسلا المجاورتين إذ أقر بصعوبة الحصول على أوعية عقارية بأسعار مناسبة لإنتاج هذه الفئة السكنية داخل محور الدار البيضاء الرباط الذي يعتبر نقطة تركز الطبقة المتوسطة في المملكة بدر الدين عتيقي'"
      ]
     },
     "execution_count": 57,
     "metadata": {},
     "output_type": "execute_result"
    }
   ],
   "source": [
    "df[df['targe']==2].iloc[0,0]"
   ]
  },
  {
   "cell_type": "markdown",
   "metadata": {},
   "source": [
    "> economy"
   ]
  },
  {
   "cell_type": "code",
   "execution_count": 58,
   "metadata": {},
   "outputs": [
    {
     "data": {
      "text/plain": [
       "'أوصت لجنة مراقبة المالية العامة بمجلس النواب بـ الاستمرار في دعم المواد ذات الطابع الاجتماعي من دقيق وسكر وغاز البوطان مع إيجاد الحلول المناسبة لترشيد هذا الدعم في أفق تفعيل برنامج الاستهداف وجاء في تقرير أعدته اللجنة حول صندوق المقاصة وتمت مناقشته اليوم الأربعاء خلال جلسة عمومية بمجلس النواب أنه يتعين وضع برنامج عملي واضح المعالم بآفاق زمنية محددة لإصلاح منظومة المقاصة ودراسة إعداد برنامج واضح للدعم المباشر يستهدف الفئات الفقيرة والطبقة المتوسطة مع إيجاد آلية فعالة وآمنة لتفعيل الاستهداف وأكد الوزير أن الحكومة تعاملت بجدية مع التوصيات التي تضمنها تقرير لجنة مراقبة المالية العامة حول صندوق المقاصة مشيرا إلى أن في المئة من توصياته تتقاطع مع التوصيات والاقتراحات التي قدمها صندوق المقاصة أثناء إنجاز التقرير كما نوه بعمل اللجنة الذي يؤسس لثقافة جديدة في مراقبة المالية العمومية قائلا إنه رغم الاختلاف في مقاربات الإصلاح إلا أن هناك اتفاقا على ضرورة إجرائه لأن صندوق المقاصة أثر بشكل كبير على اقتصاد المغرب والمالية العامة كما أكدت اللجنة التي استندت في إعداد التقرير على مجموعة من الوثائق والتقارير الصادرة بالخصوص عن المجلس الاعلى للحسابات ووزارة الاقتصاد والمالية والوزارة المكلفة بالشؤون العامة والحكامة على ضرورة وضع إجراءات مواكبة للمقاولة لدعم تنافسيتها وتوجيه الاموال الموفرة من رفع الدعم إلى الاستثمار في الاوراش المهيكلة للاقتصاد الوطني ولتحسين تنافسية المقاولات وإنجاز مركب مينائي للغاز الطبيعي كما شددت اللجنة على استهداف مستوى معين من تكاليف وتحملات المقاصة بتبويب مستقل في قانون المالية بدلا من استمرار إدماجها في فصل التحملات المشتركة وربط هذه التحملات بالنسبة للسنة المالية المتعلقة بها مع تسجيل الاعتمادات الكافية في الميزانية لتغطية التحمل الحقيقي للمقاصة وتفادي متأخرات جديدة على مستوى الاداء ودعت اللجنة إلى تحيين الترسانة القانونية والتنظيمية الخاصة بصندوق المقاصة والمكتب الوطني للحبوب والقطاني وتفعيل المراقبة في سلسلة المواد المدعمة الدقيق والسكر وغاز البوطان كما شددت على ضرورة إحداث لجنة اليقظة المتعلقة بالمقاصة تتكلف بتقديم الاستشارة للحكومة حول الاستراتيجيات والآليات الواجب وضعها من أجل عقلنة نظام المقاصة وتعميم برامج محددة ذات بعد وطني خاصة الالواح الشمسية لقطاع الفلاحة وسخانات المياه تتكلف بالاشراف عليها مؤسسات عمومية قادرة على تفعيل برامج كبرى على غرار برنامج الكهربة القروية وبرنامج تزويد العالم القروي بالماء الصالح للشرب ودعت الجنة أيضا إلى اتخاذ إجراءات تلزم استعمال المصابيح ذات الاستهلاك المنخفض في الإدارات العمومية والجماعات الترابية والمؤسسات العمومية الاخرى وتشجيع تعميمها على مختلف المستهلكين وإصدار قانون بمنع استيراد المصابيح العادية واستهلاكها اللجنة أوصت كذلك بالتقليص من استعمال غاز البوطان في الفلاحة وتشجيع استعمال الطاقات المتجددة والنجاعة الطاقية بدلا عنه في الفلاحة وفي المنازل والادارات وفي قطاعات اخرى مؤكدة ضرورة الرفع من مستوى المردودية والانتاجية على صعيد سلسلة القمح الطري والزراعات السكرية من جهة أخرى أكد الوزير المكلف بالشؤون العامة والحكامة محمد الوفا أنه لا داعي للتخوف بشأن احتياطي المغرب من المواد النفطية مبرزا توفر احتياطي يغطي شهرا واحدا من هذه المواد وأوضح ضمن رده على تدخلات مناقشي تقرير لجنة مراقبة المالية العامة بمجلس النواب حول صندوق المقاصة أن احتياطي الغازوال يكفي لـ يوما والبنزين لـ يوما والبوتان لـ يوما وأكد الوزير أنه يتم أيضا استغلال الطاقة التخزينية لميناء طنجة المتوسط التي لم تكن مستعملة من قبل عبر إلزام الشركات بتوفير شهر من التخزين وذكر أن مقاربة الحكومة في الإصلاح المتعلق بهذه المواد قامت على التدرج ابتداء من زيادة الأسعار ثم اعتماد نظام المقايسة الذي كان معمولا في فترة ما قبل التخلي عنه وصولا إلى مواكبة الشركات في تحديد الأسعار قبل أن يرفع الدعم كليا ابتداء من يناير وبخصوص غاز البوتان أشار الوفا إلى أن الحكومة عملت على جمع سلسلة الغاز التي كانت مشتتة بين الموردين ومراكز التعبئة البالغ عددها اليوم وتجار الجملة والتقسيط في نص تنظيمي واحد وسجل أن ملف إصلاح الدعم في موضوع الغاز جاهز لدى الحكومة بناء على أربع سيناريوهات ولكنها تريثت في إنجازه لعدة اعتبارات اجتماعية قد تدفع بعض الأسر والفئات خاصة في العالم القروي إلى التخلي عن استهلاك غاز البوتان والعودة لاستهلاك الحطب'"
      ]
     },
     "execution_count": 58,
     "metadata": {},
     "output_type": "execute_result"
    }
   ],
   "source": [
    "df[df['targe']==3].iloc[90,0]"
   ]
  },
  {
   "cell_type": "markdown",
   "metadata": {},
   "source": [
    "> politics"
   ]
  },
  {
   "cell_type": "code",
   "execution_count": 59,
   "metadata": {},
   "outputs": [
    {
     "data": {
      "text/plain": [
       "'حقق فريق تشيلسي فوزا ثمينا على مانشستر سيتي في عقر داره بهدف وحيد في مباراة القمة التي جرت بينهما يوم الاثنين فبراير شباط على ملعب الاتحاد في ختام منافسات المرحلة الـ للدوري الانكليزي الممتاز لكرة القدم قدم الفريق اللندني تحت انظار مديره الفني الداهية البرتغالي جوزيه مورينيو مباراة رائعة فقد فرض إيقاعه على مجريات اللقاء وتفوق على ضيفه المرعب مانشستر سيتي في كل شبر من أرض الملعب ونجح البلوز في ترجمة أفضليته إلى هدف أحرزه مدافعه الصربي برانيسلاف إيفانوفيتش في الدقيقة الـ من زمن الشوط الأول بتسديدة قوية من خارج منطقة الجزاء على يمين الحارس جو هارد واكتفى البلوز بهدف واحد بالرغم من الفرص العديدة التي أتيحت لهم للتسجيل فقد انقذت الأخشاب الثلاثة السيتي من ثلاثة أهداف أخرى وألحق تشيلسي الهزيمة الأولى بالسيتي في آخر مباراة في معقله الاتحاد وحرمه من استعادة صدارة البريميير ليغ واسدى بذلك خدمة كبيرة للأرسنال المدفعجية ورفع تشيلسي رصيده بهذه النتيجة إلى نقطة ويحتل المركز الثالث تساوى مع مانشستر سيتي الوصيف بينما يتصدر أرسنال الدوري برصيد نقطة بعدما فاز على ضيفه كريستال بالاس بهدفين نظيفين يوم الأحد الماضي'"
      ]
     },
     "execution_count": 59,
     "metadata": {},
     "output_type": "execute_result"
    }
   ],
   "source": [
    "df[df['targe']==4].iloc[0,0]"
   ]
  },
  {
   "cell_type": "markdown",
   "metadata": {},
   "source": [
    "> sports"
   ]
  },
  {
   "cell_type": "code",
   "execution_count": 60,
   "metadata": {},
   "outputs": [],
   "source": [
    "from sklearn.model_selection import train_test_split\n",
    "\n",
    "x=df.iloc[:,0]\n",
    "y=df.iloc[:,1]\n",
    "\n",
    "X_train, X_test, y_train, y_test = train_test_split(x, y, test_size = 0.20, random_state = 202, stratify=y)"
   ]
  },
  {
   "cell_type": "code",
   "execution_count": 62,
   "metadata": {},
   "outputs": [],
   "source": [
    "from sklearn.feature_extraction.text import CountVectorizer, TfidfTransformer\n",
    "from sklearn.feature_extraction.text import TfidfVectorizer"
   ]
  },
  {
   "cell_type": "code",
   "execution_count": 74,
   "metadata": {},
   "outputs": [],
   "source": [
    "count_vect=TfidfVectorizer()\n",
    "X_train_counts=count_vect.fit_transform(X_train)\n",
    "X_test_counts=count_vect.transform(X_test)"
   ]
  },
  {
   "cell_type": "code",
   "execution_count": 80,
   "metadata": {},
   "outputs": [
    {
     "data": {
      "text/plain": [
       "0.9643919982534959"
      ]
     },
     "execution_count": 80,
     "metadata": {},
     "output_type": "execute_result"
    }
   ],
   "source": [
    "# SGD classifier\n",
    "from sklearn.linear_model import SGDClassifier\n",
    "from sklearn.metrics import confusion_matrix,accuracy_score\n",
    "\n",
    "sgd_clf = SGDClassifier()\n",
    "\n",
    "sgd_clf.fit(X_train_counts, y_train)\n",
    "\n",
    "#prediction\n",
    "y_pred=sgd_clf.predict(X_train_counts)\n",
    "# evaluation\n",
    "#cm = confusion_matrix(y_train, y_pred)\n",
    "accuracy_training = accuracy_score(y_train, y_pred)\n",
    "\n",
    "accuracy_training\n"
   ]
  },
  {
   "cell_type": "code",
   "execution_count": 81,
   "metadata": {},
   "outputs": [
    {
     "data": {
      "text/plain": [
       "0.9584520636087875"
      ]
     },
     "execution_count": 81,
     "metadata": {},
     "output_type": "execute_result"
    }
   ],
   "source": [
    "y_pred_test=sgd_clf.predict(X_test_counts)\n",
    "accuracy= accuracy_score(y_test, y_pred_test)\n",
    "accuracy"
   ]
  },
  {
   "cell_type": "code",
   "execution_count": 83,
   "metadata": {},
   "outputs": [
    {
     "data": {
      "text/plain": [
       "array([[10570,    34,    80,   221,    84],\n",
       "       [   29, 13056,    95,   170,    32],\n",
       "       [   69,    76, 10388,   762,    37],\n",
       "       [  145,   382,   635, 15172,    54],\n",
       "       [   48,    89,    25,    32, 34746]])"
      ]
     },
     "execution_count": 83,
     "metadata": {},
     "output_type": "execute_result"
    }
   ],
   "source": [
    "cm = confusion_matrix(y_train, y_pred)\n",
    "cm"
   ]
  },
  {
   "cell_type": "code",
   "execution_count": null,
   "metadata": {},
   "outputs": [],
   "source": []
  }
 ],
 "metadata": {
  "kernelspec": {
   "display_name": "Python 3",
   "language": "python",
   "name": "python3"
  },
  "language_info": {
   "codemirror_mode": {
    "name": "ipython",
    "version": 3
   },
   "file_extension": ".py",
   "mimetype": "text/x-python",
   "name": "python",
   "nbconvert_exporter": "python",
   "pygments_lexer": "ipython3",
   "version": "3.8.3"
  }
 },
 "nbformat": 4,
 "nbformat_minor": 4
}
